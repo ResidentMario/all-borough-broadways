{
 "cells": [
  {
   "cell_type": "code",
   "execution_count": 5,
   "metadata": {
    "collapsed": true
   },
   "outputs": [],
   "source": [
    "from zipfile import ZipFile\n",
    "from io import BytesIO\n",
    "import requests"
   ]
  },
  {
   "cell_type": "code",
   "execution_count": 6,
   "metadata": {},
   "outputs": [],
   "source": [
    "pluto_zipped = ZipFile(BytesIO(requests.get(\"http://www1.nyc.gov/assets/planning/download/zip/data-maps/open-data/nyc_pluto_16v2%20.zip\").content))"
   ]
  },
  {
   "cell_type": "code",
   "execution_count": 8,
   "metadata": {
    "collapsed": true
   },
   "outputs": [],
   "source": [
    "pluto_zipped.extractall(\".\")"
   ]
  },
  {
   "cell_type": "code",
   "execution_count": 9,
   "metadata": {},
   "outputs": [
    {
     "name": "stdout",
     "output_type": "stream",
     "text": [
      "\u001b[0m\u001b[01;34mBORO_zip_files_csv\u001b[0m/  Untitled.ipynb\r\n"
     ]
    }
   ],
   "source": [
    "%ls"
   ]
  },
  {
   "cell_type": "code",
   "execution_count": 10,
   "metadata": {},
   "outputs": [
    {
     "name": "stdout",
     "output_type": "stream",
     "text": [
      "BK.csv  MN.csv           Plutolay16v2.pdf     QN.csv\r\n",
      "BX.csv  PLUTODD16v2.pdf  PlutoReadme16v2.pdf  SI.csv\r\n"
     ]
    }
   ],
   "source": [
    "%ls BORO_zip_files_csv/"
   ]
  },
  {
   "cell_type": "code",
   "execution_count": 11,
   "metadata": {
    "collapsed": true
   },
   "outputs": [],
   "source": [
    "import pandas as pd"
   ]
  },
  {
   "cell_type": "code",
   "execution_count": 13,
   "metadata": {},
   "outputs": [
    {
     "name": "stderr",
     "output_type": "stream",
     "text": [
      "/home/alex/miniconda3/envs/datablocks-dev/lib/python3.6/site-packages/IPython/core/interactiveshell.py:2683: DtypeWarning: Columns (19,22,23,25,63,79) have mixed types. Specify dtype option on import or set low_memory=False.\n",
      "  interactivity=interactivity, compiler=compiler, result=result)\n"
     ]
    }
   ],
   "source": [
    "MN = pd.read_csv(\"BORO_zip_files_csv/MN.csv\")"
   ]
  },
  {
   "cell_type": "code",
   "execution_count": 16,
   "metadata": {},
   "outputs": [
    {
     "data": {
      "text/plain": [
       "0              1 GOVERNORS ISLAND\n",
       "1                1 LIBERTY ISLAND\n",
       "2                  1 ELLIS ISLAND\n",
       "3            JOE DIMAGGIO HIGHWAY\n",
       "4            JOE DIMAGGIO HIGHWAY\n",
       "Name: Address, dtype: object"
      ]
     },
     "execution_count": 16,
     "metadata": {},
     "output_type": "execute_result"
    }
   ],
   "source": [
    "MN['Address'].head()"
   ]
  },
  {
   "cell_type": "code",
   "execution_count": 19,
   "metadata": {},
   "outputs": [
    {
     "data": {
      "text/plain": [
       "1264"
      ]
     },
     "execution_count": 19,
     "metadata": {},
     "output_type": "execute_result"
    }
   ],
   "source": [
    "len(MN[MN['Address'].map(lambda a: \"BROADWAY\" in a if isinstance(a, str) else False)])"
   ]
  },
  {
   "cell_type": "code",
   "execution_count": 21,
   "metadata": {},
   "outputs": [
    {
     "name": "stderr",
     "output_type": "stream",
     "text": [
      "/home/alex/miniconda3/envs/datablocks-dev/lib/python3.6/site-packages/IPython/core/interactiveshell.py:2683: DtypeWarning: Columns (18,19,21,22,23,24,25,63,64,79) have mixed types. Specify dtype option on import or set low_memory=False.\n",
      "  interactivity=interactivity, compiler=compiler, result=result)\n",
      "/home/alex/miniconda3/envs/datablocks-dev/lib/python3.6/site-packages/IPython/core/interactiveshell.py:2683: DtypeWarning: Columns (19,22,23,25,63,79) have mixed types. Specify dtype option on import or set low_memory=False.\n",
      "  interactivity=interactivity, compiler=compiler, result=result)\n",
      "/home/alex/miniconda3/envs/datablocks-dev/lib/python3.6/site-packages/IPython/core/interactiveshell.py:2683: DtypeWarning: Columns (18,19,21,22,63,64,76) have mixed types. Specify dtype option on import or set low_memory=False.\n",
      "  interactivity=interactivity, compiler=compiler, result=result)\n",
      "/home/alex/miniconda3/envs/datablocks-dev/lib/python3.6/site-packages/IPython/core/interactiveshell.py:2683: DtypeWarning: Columns (18,19,21,22,23,63,64,79) have mixed types. Specify dtype option on import or set low_memory=False.\n",
      "  interactivity=interactivity, compiler=compiler, result=result)\n",
      "/home/alex/miniconda3/envs/datablocks-dev/lib/python3.6/site-packages/IPython/core/interactiveshell.py:2683: DtypeWarning: Columns (18,19,21,22,63,64,79) have mixed types. Specify dtype option on import or set low_memory=False.\n",
      "  interactivity=interactivity, compiler=compiler, result=result)\n"
     ]
    }
   ],
   "source": [
    "boro_map = dict()\n",
    "\n",
    "for BORO in ['BK', 'MN', 'QN', 'SI', 'BX']:\n",
    "    boro_data = pd.read_csv(\"BORO_zip_files_csv/\" + BORO + \".csv\")\n",
    "    broadways = boro_data[boro_data['Address'].map(lambda a: \"BROADWAY\" in a if isinstance(a, str) else False)]\n",
    "    boro_map[BORO] = broadways"
   ]
  },
  {
   "cell_type": "code",
   "execution_count": 34,
   "metadata": {
    "collapsed": true
   },
   "outputs": [],
   "source": [
    "import numpy as np"
   ]
  },
  {
   "cell_type": "code",
   "execution_count": 45,
   "metadata": {},
   "outputs": [],
   "source": [
    "all_broadways = np.concatenate([boro_map[boro]['Address'].values for boro in boro_map])"
   ]
  },
  {
   "cell_type": "code",
   "execution_count": 46,
   "metadata": {},
   "outputs": [
    {
     "data": {
      "text/plain": [
       "2817"
      ]
     },
     "execution_count": 46,
     "metadata": {},
     "output_type": "execute_result"
    }
   ],
   "source": [
    "len(all_broadways)"
   ]
  },
  {
   "cell_type": "code",
   "execution_count": 47,
   "metadata": {
    "collapsed": true
   },
   "outputs": [],
   "source": [
    "all_unique_broadway_addresses = set(np.concatenate([boro_map[boro]['Address'].values for boro in boro_map]))"
   ]
  },
  {
   "cell_type": "code",
   "execution_count": 53,
   "metadata": {},
   "outputs": [
    {
     "data": {
      "text/plain": [
       "2411"
      ]
     },
     "execution_count": 53,
     "metadata": {},
     "output_type": "execute_result"
    }
   ],
   "source": [
    "len(all_unique_broadway_addresses)"
   ]
  },
  {
   "cell_type": "code",
   "execution_count": null,
   "metadata": {
    "collapsed": true
   },
   "outputs": [],
   "source": [
    "cross_boro_broadway_addresses"
   ]
  },
  {
   "cell_type": "code",
   "execution_count": 56,
   "metadata": {},
   "outputs": [
    {
     "name": "stdout",
     "output_type": "stream",
     "text": [
      "652\n",
      "1239\n",
      "478\n",
      "217\n",
      "127\n"
     ]
    }
   ],
   "source": [
    "cross_boro_broadway_addresses = all_unique_broadway_addresses\n",
    "\n",
    "for boro in boro_map:\n",
    "    cross_boro_addresses = cross_boro_broadway_addresses.intersection(set(boro_map[boro]['Address']))\n",
    "    print(len(cross_boro_addresses))"
   ]
  },
  {
   "cell_type": "code",
   "execution_count": 57,
   "metadata": {
    "scrolled": false
   },
   "outputs": [
    {
     "data": {
      "text/plain": [
       "{'        BROADWAY',\n",
       " '5500 BROADWAY',\n",
       " '5501 BROADWAY',\n",
       " '5510 BROADWAY',\n",
       " '5517 BROADWAY',\n",
       " '5523 BROADWAY',\n",
       " '5530 BROADWAY',\n",
       " '5531 BROADWAY',\n",
       " '5536 BROADWAY',\n",
       " '5537 BROADWAY',\n",
       " '5547 BROADWAY',\n",
       " '5550 BROADWAY',\n",
       " '5560 BROADWAY',\n",
       " '5564 BROADWAY',\n",
       " '5572 BROADWAY',\n",
       " '5580 BROADWAY',\n",
       " '5581 BROADWAY',\n",
       " '5582 BROADWAY',\n",
       " '5586 BROADWAY',\n",
       " '5588 BROADWAY',\n",
       " '5589 BROADWAY',\n",
       " '5590 BROADWAY',\n",
       " '5592 BROADWAY',\n",
       " '5600 BROADWAY',\n",
       " '5601 BROADWAY',\n",
       " '5602 BROADWAY',\n",
       " '5604 BROADWAY',\n",
       " '5606 BROADWAY',\n",
       " '5610 BROADWAY',\n",
       " '5614 BROADWAY',\n",
       " '5616 BROADWAY',\n",
       " '5618 BROADWAY',\n",
       " '5619 BROADWAY',\n",
       " '5640 BROADWAY',\n",
       " '5645 BROADWAY',\n",
       " '5657 BROADWAY',\n",
       " '5660 BROADWAY',\n",
       " '5661 BROADWAY',\n",
       " '5673 BROADWAY',\n",
       " '5701 BROADWAY',\n",
       " '5716 BROADWAY',\n",
       " '5731 BROADWAY',\n",
       " '5740 BROADWAY',\n",
       " '5753 BROADWAY',\n",
       " '5759 BROADWAY',\n",
       " '5760 BROADWAY',\n",
       " '5761 BROADWAY',\n",
       " '5763 BROADWAY',\n",
       " '5771 BROADWAY',\n",
       " '5790 BROADWAY',\n",
       " '5791 BROADWAY',\n",
       " '5805 BROADWAY',\n",
       " '5820 BROADWAY',\n",
       " '5822 BROADWAY',\n",
       " '5824 BROADWAY',\n",
       " '5825 BROADWAY',\n",
       " '5832 BROADWAY',\n",
       " '5835 BROADWAY',\n",
       " '5845 BROADWAY',\n",
       " '5869 BROADWAY',\n",
       " '5899 BROADWAY',\n",
       " '5905 BROADWAY',\n",
       " '5925 BROADWAY',\n",
       " '5935 BROADWAY',\n",
       " '5959 BROADWAY',\n",
       " '5973 BROADWAY',\n",
       " '5979 BROADWAY',\n",
       " '5985 BROADWAY',\n",
       " '5987 BROADWAY',\n",
       " '5991 BROADWAY',\n",
       " '6017 BROADWAY',\n",
       " '6029 BROADWAY',\n",
       " '6031 BROADWAY',\n",
       " '6035 BROADWAY',\n",
       " '6063 BROADWAY',\n",
       " '6071 BROADWAY',\n",
       " '6083 BROADWAY',\n",
       " '6087 BROADWAY',\n",
       " '6115 BROADWAY',\n",
       " '6125 BROADWAY',\n",
       " '6141 BROADWAY',\n",
       " '6155 BROADWAY',\n",
       " '6159 BROADWAY',\n",
       " '6161 BROADWAY',\n",
       " '6200 BROADWAY',\n",
       " '6201 BROADWAY',\n",
       " '6211 BROADWAY',\n",
       " '6213 BROADWAY',\n",
       " '6215 BROADWAY',\n",
       " '6225 BROADWAY',\n",
       " '6247 BROADWAY',\n",
       " '6249 BROADWAY',\n",
       " '6251 BROADWAY',\n",
       " '6253 BROADWAY',\n",
       " '6253A BROADWAY',\n",
       " '6255 BROADWAY',\n",
       " '6291 BROADWAY',\n",
       " '6355 BROADWAY',\n",
       " '6389 BROADWAY',\n",
       " '6393 BROADWAY',\n",
       " '6425 BROADWAY',\n",
       " '6469 BROADWAY',\n",
       " '6477 BROADWAY',\n",
       " '6485 BROADWAY',\n",
       " '6535 BROADWAY',\n",
       " '6543 BROADWAY',\n",
       " '6545 BROADWAY',\n",
       " '6555 BROADWAY',\n",
       " '6571 BROADWAY',\n",
       " '6585 BROADWAY',\n",
       " '6601 BROADWAY',\n",
       " '6629 BROADWAY',\n",
       " '6645 BROADWAY',\n",
       " '6655 BROADWAY',\n",
       " '6661 BROADWAY',\n",
       " '6677 BROADWAY',\n",
       " '6679A BROADWAY',\n",
       " '6679B BROADWAY',\n",
       " '6681A BROADWAY',\n",
       " '6681B BROADWAY',\n",
       " '6683A BROADWAY',\n",
       " '6683B BROADWAY',\n",
       " '6685A BROADWAY',\n",
       " '6685B BROADWAY',\n",
       " '6687A BROADWAY',\n",
       " '6687B BROADWAY',\n",
       " '6697 BROADWAY'}"
      ]
     },
     "execution_count": 57,
     "metadata": {},
     "output_type": "execute_result"
    }
   ],
   "source": [
    "cross_boro_addresses"
   ]
  }
 ],
 "metadata": {
  "kernelspec": {
   "display_name": "Python 3",
   "language": "python",
   "name": "python3"
  },
  "language_info": {
   "codemirror_mode": {
    "name": "ipython",
    "version": 3
   },
   "file_extension": ".py",
   "mimetype": "text/x-python",
   "name": "python",
   "nbconvert_exporter": "python",
   "pygments_lexer": "ipython3",
   "version": "3.6.1"
  }
 },
 "nbformat": 4,
 "nbformat_minor": 2
}
